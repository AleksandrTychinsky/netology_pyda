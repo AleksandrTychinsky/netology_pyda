{
 "cells": [
  {
   "cell_type": "markdown",
   "metadata": {},
   "source": [
    "## Задание 1.\n",
    "Напишите функцию, которая принимает на вход строку и проверяет является ли она валидным транспортным номером. Если да, то функция должна возвращать отдельно номер и регион."
   ]
  },
  {
   "cell_type": "code",
   "execution_count": 28,
   "metadata": {},
   "outputs": [],
   "source": [
    "import re\n",
    "import pandas as pd"
   ]
  },
  {
   "cell_type": "code",
   "execution_count": 45,
   "metadata": {},
   "outputs": [
    {
     "name": "stdout",
     "output_type": "stream",
     "text": [
      "39    Калужская область\n",
      "Name: 1, dtype: object\n"
     ]
    }
   ],
   "source": [
    "reg_num = 'о519он40'\n",
    "def what_region(reg_num):\n",
    "    number = re.findall(r'(^[авекмнопрстух]\\d{3}[авекмнопрстух]{2})([17][0-9]{2}$|\\d{2}$)', reg_num)\n",
    "    if number == []:\n",
    "        print('Wrong Number')\n",
    "    else:\n",
    "        tables = pd.read_html(\"https://wroom.ru/news/9059\")[0]\n",
    "        print(tables[1][(tables[0]==int(number[0][1]))])\n",
    "    # не разобрался как тут оставить только название региона\n",
    "what_region(reg_num)   \n"
   ]
  },
  {
   "cell_type": "markdown",
   "metadata": {},
   "source": [
    "## Задание 2.\n",
    "Постарайтесь написать (в крайнем случае найти) самый полный шаблон для проверки e-mail адресов через регулярное выражение, которая проверяет e-mail адрес на валидность. Можно руководствоваться следующими минимальными требованиями:\n",
    "* адрес должен содержать специальный символ “@”, который отделяет имя пользователя почтовой системы от доменного имени;\n",
    "* адрес не должен содержать следующие символы: “пробел”, “,”, “:”, “;”, “!”, “#”, “%”, “*”, “(”, “)”, “=”, “+”, “{”, “}”, \" \" \", \" ’ \", \" / \", \" \\ \" и “|”;\n",
    "* адрес должен состоять только из латинских символов;\n",
    "* после символа “@” должна быть как минимум одна “.”;\n",
    "* после последней точки должно быть не менее 2-х и не более 4-х символов, причем наличие цифр не допускается;\n",
    "* между последней точкой и символом “@” должно быть не менее 2-х символов\n",
    "* слева от “@” должно быть не менее четырех символов"
   ]
  },
  {
   "cell_type": "code",
   "execution_count": 67,
   "metadata": {},
   "outputs": [
    {
     "data": {
      "text/plain": [
       "['asd1@md.ru']"
      ]
     },
     "execution_count": 67,
     "metadata": {},
     "output_type": "execute_result"
    }
   ],
   "source": [
    "email = \"asd1@md.ru\"\n",
    "request = r'^[a-z0-9._-]{4,}@[a-z0-9.-]{2,}\\.[a-z]{2,4}$'\n",
    "re.findall(request, email, re.I)\n"
   ]
  },
  {
   "cell_type": "markdown",
   "metadata": {},
   "source": [
    "## Задание 3.\n",
    "Напишите функцию, которая будет удалять все последовательные повторы слов из заданной строки при помощи регулярных выражений."
   ]
  },
  {
   "cell_type": "code",
   "execution_count": 121,
   "metadata": {},
   "outputs": [
    {
     "data": {
      "text/plain": [
       "'Добрый день, сегодня поехали домой'"
      ]
     },
     "execution_count": 121,
     "metadata": {},
     "output_type": "execute_result"
    }
   ],
   "source": [
    "phrase = \"Добрый день день, сегодня сегодня поехали домой домой\"\n",
    "re.sub(r'([^\\W\\d_]+)(\\s+\\1)+', r'\\1', phrase, flags=re.I)\n",
    "# ??? Вопрос: нашел решение в google- не очень понимаю что тут означают (\\s+\\1)+. \n",
    "#\\1 - это ссылка на то что после пробела идет повтор предшествующго слова([^\\W\\d_]+) ?"
   ]
  },
  {
   "cell_type": "markdown",
   "metadata": {},
   "source": [
    "## Задание 4.\n",
    "Напишите функцию, которая будет проверять номер сотового телефона на валидность, если он валиден, то переводить его в формат:\n",
    "\n",
    "+7(xxx)-xxx-xx-xx\n",
    "\n",
    "Постарайтесь предусмотреть как можно больше адекватных форматов изначального ввода номера. Примеры валидных форматов:\n",
    "\n",
    "- +7 955 555-55-55;\n",
    "- 9555555555;\n",
    "- 8(955)555-55-55;\n",
    "- +7 955 555 55 55;\n",
    "- 7(955) 555-55-55;\n",
    "- +7 955+555+55+55."
   ]
  },
  {
   "cell_type": "code",
   "execution_count": 169,
   "metadata": {},
   "outputs": [
    {
     "data": {
      "text/plain": [
       "'+7(955)-555-55-55'"
      ]
     },
     "execution_count": 169,
     "metadata": {},
     "output_type": "execute_result"
    }
   ],
   "source": [
    "tel_number = \"7 955+555+55+55\"\n",
    "request = r'(\\w*\\s*)(9[0-9]{2})[\\W\\d_]*([0-9]{3})[\\W\\d_]*([0-9]{2})[\\W\\d_]*([0-9]{2})'\n",
    "re.sub(request, r'+7(\\2)-\\3-\\4-\\5', tel_number)"
   ]
  },
  {
   "cell_type": "code",
   "execution_count": null,
   "metadata": {},
   "outputs": [],
   "source": []
  }
 ],
 "metadata": {
  "kernelspec": {
   "display_name": "Python 3",
   "language": "python",
   "name": "python3"
  },
  "language_info": {
   "codemirror_mode": {
    "name": "ipython",
    "version": 3
   },
   "file_extension": ".py",
   "mimetype": "text/x-python",
   "name": "python",
   "nbconvert_exporter": "python",
   "pygments_lexer": "ipython3",
   "version": "3.7.6"
  }
 },
 "nbformat": 4,
 "nbformat_minor": 4
}
