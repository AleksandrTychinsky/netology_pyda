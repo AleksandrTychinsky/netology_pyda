{
 "cells": [
  {
   "cell_type": "markdown",
   "metadata": {},
   "source": [
    "**Задание 1**. Даны 2 строки: *long_phrase* и *short_phrase*. \n",
    "Напишите код, который проверяет действительно ли длинная фраза *long_phrase* длиннее короткой *short_phrase*. И выводит *True* или *False* в зависимости от результата сравнения."
   ]
  },
  {
   "cell_type": "code",
   "execution_count": 1,
   "metadata": {},
   "outputs": [],
   "source": [
    "long_phrase = 'Насколько проще было бы писать программы, если бы не заказчики'\n",
    "short_phrase = '640Кб должно хватить для любых задач. Билл Гейтс (по легенде)'"
   ]
  },
  {
   "cell_type": "code",
   "execution_count": 2,
   "metadata": {},
   "outputs": [
    {
     "name": "stdout",
     "output_type": "stream",
     "text": [
      "True\n"
     ]
    }
   ],
   "source": [
    "print(len(long_phrase) > len(short_phrase))"
   ]
  },
  {
   "cell_type": "markdown",
   "metadata": {},
   "source": [
    "**Задание 2**. Дано значение объема файла в байтах (*в мегабайте 2^20 байт*). Напишите перевод этого значения в мегабайты в формате: \"*Объем файла равен 213.68Mb*\"."
   ]
  },
  {
   "cell_type": "code",
   "execution_count": 3,
   "metadata": {},
   "outputs": [
    {
     "name": "stdout",
     "output_type": "stream",
     "text": [
      "Объем файла равен 98.78Mb\n"
     ]
    }
   ],
   "source": [
    "file_size_b = 103582912 # 12582912\n",
    "file_size_Mb = round(file_size_b / (2**20), 2)\n",
    "print(f\"Объем файла равен {file_size_Mb}Mb\")"
   ]
  },
  {
   "cell_type": "markdown",
   "metadata": {},
   "source": [
    "**Задание 3**. Разработать приложение для определения знака зодиака по дате рождения. Пример:\n",
    "\n",
    "Введите месяц: март\n",
    "\n",
    "Введите число: 6\n",
    "\n",
    "Вывод:\n",
    "Рыбы"
   ]
  },
  {
   "cell_type": "code",
   "execution_count": 4,
   "metadata": {},
   "outputs": [
    {
     "name": "stdout",
     "output_type": "stream",
     "text": [
      "Введите месяц: март\n",
      "Введите дату: 12\n",
      "Вывод: рыбы\n"
     ]
    }
   ],
   "source": [
    "#справочник\n",
    "month_name = ('январь', 'февраль', 'март', 'апрель', 'май', 'июнь', 'июль', 'август', 'сентябрь', 'октябрь', 'ноябрь', 'декабрь')\n",
    "month_day = (31, 29, 31, 30, 31, 30, 31, 31, 30, 31, 30, 31)\n",
    "zodiac_day = (19, 19, 20, 19, 20 , 20, 22, 22, 22, 23, 22, 21)\n",
    "zodiac_name = (\"козерог\", \"водолей\", \"рыбы\", \"овен\", \"телец\", \"близнецы\", \"рак\", \"лев\", \"дева\", \"весы\", \"скорпин\", \"стрелец\", \"козерог\")\n",
    "\n",
    "#ввод месяца и проверка на корректность введенного значения\n",
    "input_month = input('Введите месяц: ').lower()\n",
    "f=0\n",
    "while f != 1:\n",
    "    if input_month not in month_name:\n",
    "        f=0\n",
    "        print(\"Введен неверный месяц, попробуйте еще раз\")\n",
    "        input_month = input('Введите месяц: ').lower()\n",
    "    else:\n",
    "        f=1\n",
    "#ввод даты и проверка на корректность введенного значения\n",
    "input_date = int(input('Введите дату: '))\n",
    "f=0\n",
    "while f != 1:\n",
    "    if input_date > month_day[month_name.index(input_month, 0)]:\n",
    "        f=0\n",
    "        print(\"В этом месяце такой даты нет, попробуйте еще раз\")\n",
    "        input_date = int(input('Введите дату: '))\n",
    "    else:\n",
    "        f=1\n",
    "\n",
    "if input_date <= zodiac_day[month_name.index(input_month, 0)]:\n",
    "    print('Вывод:',zodiac_name[month_name.index(input_month, 0)])\n",
    "else:\n",
    "    print('Вывод:',zodiac_name[month_name.index(input_month, 0)+1])\n",
    "    \n",
    "    "
   ]
  },
  {
   "cell_type": "markdown",
   "metadata": {},
   "source": [
    "### **Задание 4**. Нужно разработать приложение для финансового планирования.\n",
    "Приложение учитывает сколько уходит на ипотеку, \"на жизнь\" и сколько нужно отложить на пенсию.\n",
    "Пользователь вводит:\n",
    "- заработанную плату в месяц.\n",
    "- сколько процентов от ЗП уходит на ипотеку.\n",
    "- сколько процентов от ЗП уходит \"на жизнь\".\n",
    "- сколько раз приходит премия в год.\n",
    "\n",
    "Остальная часть заработанной платы откладывается на пенсию.\n",
    "\n",
    "Также пользователю приходит премия в размере зарплаты, от которой половина уходит на отпуск, а вторая половина откладывается.\n",
    "\n",
    "Программа должна учитывать сколько премий было в год.\n",
    "\n",
    "Нужно вывести сколько денег тратит пользователь на ипотеку и сколько он накопит за год.\n",
    "\n",
    "Пример:\n",
    "\n",
    "Введите заработанную плату в месяц: 100000\n",
    "\n",
    "Введите сколько процентов уходит на ипотеку: 30\n",
    "\n",
    "Введите сколько процентов уходит на жизнь: 50\n",
    "\n",
    "Введите количество премий за год: 2\n",
    "\n",
    "Вывод:\n",
    "На ипотеку было потрачено: 360000 рублей\n",
    "Было накоплено: 340000 рублей"
   ]
  },
  {
   "cell_type": "code",
   "execution_count": 5,
   "metadata": {},
   "outputs": [
    {
     "name": "stdout",
     "output_type": "stream",
     "text": [
      "Введите свою заработную плату в месяц: 100000\n",
      "Введите сколько процентов уходит на ипотеку: 30\n",
      "Введите сколько процентов уходит на жизнь: 50\n",
      "Введите количество премий за год: 2\n",
      "На ипотеку было потрачено: 360000 рублей\n",
      "Было накоплено: 340000 рублей\n"
     ]
    }
   ],
   "source": [
    "salary = int(input('Введите свою заработную плату в месяц: '))\n",
    "\n",
    "mortgage = int(input('Введите сколько процентов уходит на ипотеку: '))\n",
    "f=0\n",
    "while f != 1:\n",
    "    if mortgage > 100:\n",
    "        f=0\n",
    "        print(\"Введеное значение некорректно, попробуйте еще раз\")\n",
    "        mortgage = int(input('Введите сколько процентов уходит на ипотеку: '))\n",
    "    else:\n",
    "        f=1\n",
    "\n",
    "life = int(input('Введите сколько процентов уходит на жизнь: '))\n",
    "f=0\n",
    "while f != 1:\n",
    "    if life > 100 - mortgage:\n",
    "        f=0\n",
    "        print(\"Введеное значение некорректно, попробуйте еще раз\")\n",
    "        life = int(input('Введите сколько процентов уходит на жизнь: '))\n",
    "    else:\n",
    "        f=1\n",
    "\n",
    "bonus_number = int(input('Введите количество премий за год: '))\n",
    "\n",
    "mortgage_year = salary * 12 * mortgage / 100\n",
    "print (f\"На ипотеку было потрачено: {int(mortgage_year)} рублей\")\n",
    "\n",
    "life_year = salary * 12 * life / 100\n",
    "salary_year = salary * 12\n",
    "bonus_year = bonus_number * salary\n",
    "holiday_year = bonus_year/2\n",
    "\n",
    "scratch_up = salary_year + bonus_year - mortgage_year - life_year - holiday_year\n",
    "print (f\"Было накоплено: {int(scratch_up)} рублей\")\n"
   ]
  },
  {
   "cell_type": "code",
   "execution_count": null,
   "metadata": {},
   "outputs": [],
   "source": []
  }
 ],
 "metadata": {
  "kernelspec": {
   "display_name": "Python 3",
   "language": "python",
   "name": "python3"
  },
  "language_info": {
   "codemirror_mode": {
    "name": "ipython",
    "version": 3
   },
   "file_extension": ".py",
   "mimetype": "text/x-python",
   "name": "python",
   "nbconvert_exporter": "python",
   "pygments_lexer": "ipython3",
   "version": "3.7.6"
  }
 },
 "nbformat": 4,
 "nbformat_minor": 2
}
