{
 "cells": [
  {
   "cell_type": "markdown",
   "metadata": {},
   "source": [
    "Вы работаете секретарем и вам постоянно приходят различные документы. Вы должны быть очень внимательны, чтобы не потерять ни один документ. Каталог документов хранится в следующем виде:"
   ]
  },
  {
   "cell_type": "code",
   "execution_count": 32,
   "metadata": {},
   "outputs": [],
   "source": [
    "documents = [\n",
    "    {'type': 'passport', 'number': '2207 876234', 'name': 'Василий Гупкин'},\n",
    "    {'type': 'invoice', 'number': '11-2', 'name': 'Геннадий Покемонов'},\n",
    "    {'type': 'insurance', 'number': '123', 'name': 'Аристарх Павлов'}\n",
    "]"
   ]
  },
  {
   "cell_type": "markdown",
   "metadata": {},
   "source": [
    "Перечень полок, на которых находятся документы хранится в следующем виде:"
   ]
  },
  {
   "cell_type": "code",
   "execution_count": 33,
   "metadata": {},
   "outputs": [],
   "source": [
    "directories = {\n",
    "    '1': ['2207 876234', '11-2'],\n",
    "    '2': ['123'],\n",
    "    '3': []\n",
    "}"
   ]
  },
  {
   "cell_type": "markdown",
   "metadata": {},
   "source": [
    "Необходимо реализовать пользовательские команды (внимание! это не название функций, которые должны быть выразительными, а команды, которые вводит пользователь, чтобы получить необходимый результат):\n",
    "  \n",
    "- p – people – команда, которая спросит номер документа и выведет имя человека, которому он принадлежит;  \n",
    "- s – shelf – команда, которая спросит номер документа и выведет номер полки, на которой он находится  \n",
    "Правильно обработайте ситуацию, когда пользователь будет вводить несуществующий документ.\n",
    "- l – list – команда, которая выведет список всех документов в формате   \n",
    "**passport \"2207 876234\" \"Василий Гупкин\"**  \n",
    "- as – add shelf – команда, которая спросит номер новой полки и добавит ее в перечень\n",
    "- d – delete – команда, которая спросит номер документа и удалит его из каталога и из перечня полок. Предусмотрите сценарий, когда пользователь вводит несуществующий документ;  \n",
    "- m – move – команда, которая спросит номер документа и целевую полку и переместит его с текущей полки на целевую. Корректно обработайте кейсы, когда пользователь пытается переместить несуществующий документ или переместить документ на несуществующую полку;  \n",
    "- a – add – команда, которая добавит новый документ в каталог и в перечень полок, спросив его номер, тип, имя владельца и номер полки, на котором он будет храниться."
   ]
  },
  {
   "cell_type": "code",
   "execution_count": 56,
   "metadata": {},
   "outputs": [],
   "source": [
    "def input_comand(): #ввод команды\n",
    "    result = input(\"Введите команду\\n\")\n",
    "    return result\n",
    "\n",
    "def comand_id(command): #идентификация команды\n",
    "    if command == 'p':\n",
    "        p_command()\n",
    "    elif command == 's':\n",
    "        s_command()\n",
    "    elif command == 'l':\n",
    "        l_command()\n",
    "    elif command == 'q':\n",
    "        print(\"Удачного дня\")\n",
    "        \n",
    "def find_doc(what, where):\n",
    "    f=0\n",
    "    for element in documents:\n",
    "        if what == element[where]:\n",
    "            f=1\n",
    "    return f\n",
    "\n",
    "def find_doc_num():\n",
    "    f=0\n",
    "    while f == 0:\n",
    "        doc_id = input(\"Введите номер документа\\n\")\n",
    "        if find_doc(doc_id, 'number') == 0:\n",
    "            print('Нет такого номера документа')\n",
    "            f=0 \n",
    "        else:\n",
    "            f=1\n",
    "    return doc_id\n",
    "\n",
    "\n",
    "def p_command(): # people\n",
    "    doc_id = find_doc_num()\n",
    "    name = ''\n",
    "    for data in documents:\n",
    "        if doc_id == data['number']:\n",
    "            name = data['name']\n",
    "            break\n",
    "    print(\"Имя владельца\\n\",name)\n",
    "    comand_id(input_comand())\n",
    "\n",
    "def s_command():\n",
    "    doc_id = find_doc_num()\n",
    "    direct =''\n",
    "    for data in directories:\n",
    "        if doc_id in directories[data]:\n",
    "            direct = data\n",
    "            break\n",
    "    print(\"Номер полки\\n\", direct)\n",
    "    comand_id(input_comand())   \n",
    "    \n",
    "def l_command():\n",
    "    for data in documents:\n",
    "         print(data['type'] +' \"' + data['number'] +'\" \"' + data['name'] +'\"')\n",
    "            \n",
    "def as_command():\n",
    "    f=0\n",
    "    while f == 0:\n",
    "        new_direct = input(\"Введите номер новой полки\")\n",
    "        if find_doc(new_direct, 'number') == 0:\n",
    "            print('Нет такого номера документа')\n",
    "            f=0 \n",
    "        else:\n",
    "            f=1        "
   ]
  },
  {
   "cell_type": "code",
   "execution_count": 57,
   "metadata": {},
   "outputs": [],
   "source": [
    "def main():\n",
    "    comand_id(input_comand())"
   ]
  },
  {
   "cell_type": "code",
   "execution_count": 58,
   "metadata": {},
   "outputs": [
    {
     "name": "stdout",
     "output_type": "stream",
     "text": [
      "Введите команду\n",
      "l\n",
      "passport \"2207 876234\" \"Василий Гупкин\"\n",
      "invoice \"11-2\" \"Геннадий Покемонов\"\n",
      "insurance \"123\" \"Аристарх Павлов\"\n"
     ]
    }
   ],
   "source": [
    "main()"
   ]
  },
  {
   "cell_type": "code",
   "execution_count": null,
   "metadata": {},
   "outputs": [],
   "source": []
  }
 ],
 "metadata": {
  "kernelspec": {
   "display_name": "Python 3",
   "language": "python",
   "name": "python3"
  },
  "language_info": {
   "codemirror_mode": {
    "name": "ipython",
    "version": 3
   },
   "file_extension": ".py",
   "mimetype": "text/x-python",
   "name": "python",
   "nbconvert_exporter": "python",
   "pygments_lexer": "ipython3",
   "version": "3.7.6"
  }
 },
 "nbformat": 4,
 "nbformat_minor": 2
}
